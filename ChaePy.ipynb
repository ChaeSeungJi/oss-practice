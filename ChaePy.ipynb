{
  "nbformat": 4,
  "nbformat_minor": 0,
  "metadata": {
    "colab": {
      "provenance": [],
      "authorship_tag": "ABX9TyMc6tB/503IvuXtb4BY1FN9"
    },
    "kernelspec": {
      "name": "python3",
      "display_name": "Python 3"
    },
    "language_info": {
      "name": "python"
    }
  },
  "cells": [
    {
      "cell_type": "code",
      "execution_count": null,
      "metadata": {
        "colab": {
          "base_uri": "https://localhost:8080/"
        },
        "id": "JzGx1T_Q3WZj",
        "outputId": "df044fed-a1cb-4d85-b638-cd2db163ab05"
      },
      "outputs": [
        {
          "output_type": "stream",
          "name": "stdout",
          "text": [
            "Looking in indexes: https://pypi.org/simple, https://us-python.pkg.dev/colab-wheels/public/simple/\n",
            "Requirement already satisfied: pandas in /usr/local/lib/python3.9/dist-packages (1.4.4)\n",
            "Requirement already satisfied: matplotlib in /usr/local/lib/python3.9/dist-packages (3.7.1)\n",
            "Requirement already satisfied: numpy>=1.18.5 in /usr/local/lib/python3.9/dist-packages (from pandas) (1.22.4)\n",
            "Requirement already satisfied: python-dateutil>=2.8.1 in /usr/local/lib/python3.9/dist-packages (from pandas) (2.8.2)\n",
            "Requirement already satisfied: pytz>=2020.1 in /usr/local/lib/python3.9/dist-packages (from pandas) (2022.7.1)\n",
            "Requirement already satisfied: kiwisolver>=1.0.1 in /usr/local/lib/python3.9/dist-packages (from matplotlib) (1.4.4)\n",
            "Requirement already satisfied: cycler>=0.10 in /usr/local/lib/python3.9/dist-packages (from matplotlib) (0.11.0)\n",
            "Requirement already satisfied: packaging>=20.0 in /usr/local/lib/python3.9/dist-packages (from matplotlib) (23.0)\n",
            "Requirement already satisfied: pyparsing>=2.3.1 in /usr/local/lib/python3.9/dist-packages (from matplotlib) (3.0.9)\n",
            "Requirement already satisfied: contourpy>=1.0.1 in /usr/local/lib/python3.9/dist-packages (from matplotlib) (1.0.7)\n",
            "Requirement already satisfied: importlib-resources>=3.2.0 in /usr/local/lib/python3.9/dist-packages (from matplotlib) (5.12.0)\n",
            "Requirement already satisfied: fonttools>=4.22.0 in /usr/local/lib/python3.9/dist-packages (from matplotlib) (4.39.3)\n",
            "Requirement already satisfied: pillow>=6.2.0 in /usr/local/lib/python3.9/dist-packages (from matplotlib) (8.4.0)\n",
            "Requirement already satisfied: zipp>=3.1.0 in /usr/local/lib/python3.9/dist-packages (from importlib-resources>=3.2.0->matplotlib) (3.15.0)\n",
            "Requirement already satisfied: six>=1.5 in /usr/local/lib/python3.9/dist-packages (from python-dateutil>=2.8.1->pandas) (1.16.0)\n"
          ]
        }
      ],
      "source": [
        "!pip install pandas matplotlib"
      ]
    },
    {
      "cell_type": "code",
      "source": [
        "import pandas as pd\n",
        "import matplotlib.pyplot as plt\n",
        "\n",
        "class PyBundle:\n",
        "\n",
        "    @staticmethod\n",
        "    def read_csv(data_file):\n",
        "        return pd.read_csv(data_file)\n",
        "\n",
        "    @staticmethod\n",
        "    def plot(data, x_column, y_column):\n",
        "        plt.plot(data[x_column], data[y_column])\n",
        "        plt.xlabel(x_column)\n",
        "        plt.ylabel(y_column)\n",
        "        plt.show()\n"
      ],
      "metadata": {
        "id": "wFUVoIe46bnP"
      },
      "execution_count": null,
      "outputs": []
    },
    {
      "cell_type": "code",
      "source": [
        "# pandas를 사용한 데이터 분석 함수\n",
        "def analyze_data(data_file):\n",
        "    data = PyBundle.read_csv(data_file)\n",
        "    print(data.describe())\n",
        "\n",
        "# matplotlib를 사용한 시각화 함수\n",
        "def visualize_data(data_file, x_column, y_column):\n",
        "    data = PyBundle.read_csv(data_file)\n",
        "    PyBundle.plot(data, x_column, y_column)\n",
        "\n"
      ],
      "metadata": {
        "id": "jtGvZbiE6UGj"
      },
      "execution_count": null,
      "outputs": []
    },
    {
      "cell_type": "code",
      "source": [
        "!echo \"x,y\" > sample_data.csv\n",
        "!echo \"1,2\" >> sample_data.csv\n",
        "!echo \"2,4\" >> sample_data.csv\n",
        "!echo \"3,6\" >> sample_data.csv\n",
        "!echo \"4,8\" >> sample_data.csv\n",
        "!echo \"5,10\" >> sample_data.csv\n",
        "\n",
        "data_file = \"sample_data.csv\"\n",
        "\n",
        "# 데이터 분석\n",
        "print(\"Data analysis:\")\n",
        "analyze_data(data_file)\n",
        "\n",
        "# 데이터 시각화\n",
        "print(\"Data visualization:\")\n",
        "visualize_data(data_file, \"x\", \"y\")\n"
      ],
      "metadata": {
        "colab": {
          "base_uri": "https://localhost:8080/",
          "height": 651
        },
        "id": "WHFbDuA28KLa",
        "outputId": "98d5994c-31eb-4bcc-938c-5f9c6fbeb0f3"
      },
      "execution_count": null,
      "outputs": [
        {
          "output_type": "stream",
          "name": "stdout",
          "text": [
            "Data analysis:\n",
            "              x          y\n",
            "count  5.000000   5.000000\n",
            "mean   3.000000   6.000000\n",
            "std    1.581139   3.162278\n",
            "min    1.000000   2.000000\n",
            "25%    2.000000   4.000000\n",
            "50%    3.000000   6.000000\n",
            "75%    4.000000   8.000000\n",
            "max    5.000000  10.000000\n",
            "Data visualization:\n"
          ]
        },
        {
          "output_type": "display_data",
          "data": {
            "text/plain": [
              "<Figure size 640x480 with 1 Axes>"
            ],
            "image/png": "[encoded data removed]"
          },
          "metadata": {}
        }
      ]
    },
    {
      "cell_type": "code",
      "source": [
        "!pip install wheel"
      ],
      "metadata": {
        "colab": {
          "base_uri": "https://localhost:8080/"
        },
        "id": "dvffDWFd_g6U",
        "outputId": "8e3864b2-5432-4cea-a6dc-f3cbc177dfa9"
      },
      "execution_count": null,
      "outputs": [
        {
          "output_type": "stream",
          "name": "stdout",
          "text": [
            "Looking in indexes: https://pypi.org/simple, https://us-python.pkg.dev/colab-wheels/public/simple/\n",
            "Requirement already satisfied: wheel in /usr/local/lib/python3.9/dist-packages (0.40.0)\n"
          ]
        }
      ]
    },
    {
      "cell_type": "code",
      "source": [
        "!pip install twine"
      ],
      "metadata": {
        "colab": {
          "base_uri": "https://localhost:8080/"
        },
        "id": "YsORHLgB_tM5",
        "outputId": "dd65afe9-d61a-4172-a07b-6d43ffb03e3a"
      },
      "execution_count": null,
      "outputs": [
        {
          "output_type": "stream",
          "name": "stdout",
          "text": [
            "Looking in indexes: https://pypi.org/simple, https://us-python.pkg.dev/colab-wheels/public/simple/\n",
            "Collecting twine\n",
            "  Downloading twine-4.0.2-py3-none-any.whl (36 kB)\n",
            "Collecting requests-toolbelt!=0.9.0,>=0.8.0\n",
            "  Downloading requests_toolbelt-0.10.1-py2.py3-none-any.whl (54 kB)\n",
            "\u001b[2K     \u001b[90m━━━━━━━━━━━━━━━━━━━━━━━━━━━━━━━━━━━━━━━━\u001b[0m \u001b[32m54.5/54.5 kB\u001b[0m \u001b[31m5.2 MB/s\u001b[0m eta \u001b[36m0:00:00\u001b[0m\n",
            "\u001b[?25hCollecting pkginfo>=1.8.1\n",
            "  Downloading pkginfo-1.9.6-py3-none-any.whl (30 kB)\n",
            "Requirement already satisfied: urllib3>=1.26.0 in /usr/local/lib/python3.9/dist-packages (from twine) (1.26.15)\n",
            "Collecting keyring>=15.1\n",
            "  Downloading keyring-23.13.1-py3-none-any.whl (37 kB)\n",
            "Collecting rfc3986>=1.4.0\n",
            "  Downloading rfc3986-2.0.0-py2.py3-none-any.whl (31 kB)\n",
            "Requirement already satisfied: requests>=2.20 in /usr/local/lib/python3.9/dist-packages (from twine) (2.27.1)\n",
            "Collecting readme-renderer>=35.0\n",
            "  Downloading readme_renderer-37.3-py3-none-any.whl (14 kB)\n",
            "Requirement already satisfied: rich>=12.0.0 in /usr/local/lib/python3.9/dist-packages (from twine) (13.3.3)\n",
            "Requirement already satisfied: importlib-metadata>=3.6 in /usr/local/lib/python3.9/dist-packages (from twine) (6.1.0)\n",
            "Requirement already satisfied: zipp>=0.5 in /usr/local/lib/python3.9/dist-packages (from importlib-metadata>=3.6->twine) (3.15.0)\n",
            "Collecting jaraco.classes\n",
            "  Downloading jaraco.classes-3.2.3-py3-none-any.whl (6.0 kB)\n",
            "Collecting SecretStorage>=3.2\n",
            "  Downloading SecretStorage-3.3.3-py3-none-any.whl (15 kB)\n",
            "Collecting jeepney>=0.4.2\n",
            "  Downloading jeepney-0.8.0-py3-none-any.whl (48 kB)\n",
            "\u001b[2K     \u001b[90m━━━━━━━━━━━━━━━━━━━━━━━━━━━━━━━━━━━━━━━━\u001b[0m \u001b[32m48.4/48.4 kB\u001b[0m \u001b[31m4.7 MB/s\u001b[0m eta \u001b[36m0:00:00\u001b[0m\n",
            "\u001b[?25hRequirement already satisfied: bleach>=2.1.0 in /usr/local/lib/python3.9/dist-packages (from readme-renderer>=35.0->twine) (6.0.0)\n",
            "Requirement already satisfied: docutils>=0.13.1 in /usr/local/lib/python3.9/dist-packages (from readme-renderer>=35.0->twine) (0.16)\n",
            "Requirement already satisfied: Pygments>=2.5.1 in /usr/local/lib/python3.9/dist-packages (from readme-renderer>=35.0->twine) (2.14.0)\n",
            "Requirement already satisfied: idna<4,>=2.5 in /usr/local/lib/python3.9/dist-packages (from requests>=2.20->twine) (3.4)\n",
            "Requirement already satisfied: certifi>=2017.4.17 in /usr/local/lib/python3.9/dist-packages (from requests>=2.20->twine) (2022.12.7)\n",
            "Requirement already satisfied: charset-normalizer~=2.0.0 in /usr/local/lib/python3.9/dist-packages (from requests>=2.20->twine) (2.0.12)\n",
            "Requirement already satisfied: markdown-it-py<3.0.0,>=2.2.0 in /usr/local/lib/python3.9/dist-packages (from rich>=12.0.0->twine) (2.2.0)\n",
            "Requirement already satisfied: webencodings in /usr/local/lib/python3.9/dist-packages (from bleach>=2.1.0->readme-renderer>=35.0->twine) (0.5.1)\n",
            "Requirement already satisfied: six>=1.9.0 in /usr/local/lib/python3.9/dist-packages (from bleach>=2.1.0->readme-renderer>=35.0->twine) (1.16.0)\n",
            "Requirement already satisfied: mdurl~=0.1 in /usr/local/lib/python3.9/dist-packages (from markdown-it-py<3.0.0,>=2.2.0->rich>=12.0.0->twine) (0.1.2)\n",
            "Requirement already satisfied: cryptography>=2.0 in /usr/local/lib/python3.9/dist-packages (from SecretStorage>=3.2->keyring>=15.1->twine) (40.0.1)\n",
            "Requirement already satisfied: more-itertools in /usr/local/lib/python3.9/dist-packages (from jaraco.classes->keyring>=15.1->twine) (9.1.0)\n",
            "Requirement already satisfied: cffi>=1.12 in /usr/local/lib/python3.9/dist-packages (from cryptography>=2.0->SecretStorage>=3.2->keyring>=15.1->twine) (1.15.1)\n",
            "Requirement already satisfied: pycparser in /usr/local/lib/python3.9/dist-packages (from cffi>=1.12->cryptography>=2.0->SecretStorage>=3.2->keyring>=15.1->twine) (2.21)\n",
            "Installing collected packages: rfc3986, pkginfo, jeepney, jaraco.classes, requests-toolbelt, readme-renderer, SecretStorage, keyring, twine\n",
            "Successfully installed SecretStorage-3.3.3 jaraco.classes-3.2.3 jeepney-0.8.0 keyring-23.13.1 pkginfo-1.9.6 readme-renderer-37.3 requests-toolbelt-0.10.1 rfc3986-2.0.0 twine-4.0.2\n"
          ]
        }
      ]
    },
    {
      "cell_type": "code",
      "source": [
        "!python setup.py bdist_wheel"
      ],
      "metadata": {
        "colab": {
          "base_uri": "https://localhost:8080/"
        },
        "id": "y-TC_iVP_zai",
        "outputId": "d7ccf1a3-0b2d-434d-8c10-3115f0415466"
      },
      "execution_count": null,
      "outputs": [
        {
          "output_type": "stream",
          "name": "stdout",
          "text": [
            "running bdist_wheel\n",
            "running build\n",
            "running build_py\n",
            "package init file 'mypy/__init__.py' not found (or not a regular file)\n",
            "creating build\n",
            "creating build/lib\n",
            "creating build/lib/mypy\n",
            "copying mypy/chaepy.py -> build/lib/mypy\n",
            "/usr/local/lib/python3.9/dist-packages/setuptools/command/install.py:34: SetuptoolsDeprecationWarning: setup.py install is deprecated. Use build and pip and other standards-based tools.\n",
            "  warnings.warn(\n",
            "installing to build/bdist.linux-x86_64/wheel\n",
            "running install\n",
            "running install_lib\n",
            "creating build/bdist.linux-x86_64\n",
            "creating build/bdist.linux-x86_64/wheel\n",
            "creating build/bdist.linux-x86_64/wheel/mypy\n",
            "copying build/lib/mypy/chaepy.py -> build/bdist.linux-x86_64/wheel/mypy\n",
            "running install_egg_info\n",
            "running egg_info\n",
            "creating chaepy.egg-info\n",
            "writing chaepy.egg-info/PKG-INFO\n",
            "writing dependency_links to chaepy.egg-info/dependency_links.txt\n",
            "writing requirements to chaepy.egg-info/requires.txt\n",
            "writing top-level names to chaepy.egg-info/top_level.txt\n",
            "writing manifest file 'chaepy.egg-info/SOURCES.txt'\n",
            "reading manifest file 'chaepy.egg-info/SOURCES.txt'\n",
            "writing manifest file 'chaepy.egg-info/SOURCES.txt'\n",
            "Copying chaepy.egg-info to build/bdist.linux-x86_64/wheel/chaepy-0.1.0-py3.9.egg-info\n",
            "running install_scripts\n",
            "creating build/bdist.linux-x86_64/wheel/chaepy-0.1.0.dist-info/WHEEL\n",
            "creating 'dist/chaepy-0.1.0-py3-none-any.whl' and adding 'build/bdist.linux-x86_64/wheel' to it\n",
            "adding 'mypy/chaepy.py'\n",
            "adding 'chaepy-0.1.0.dist-info/METADATA'\n",
            "adding 'chaepy-0.1.0.dist-info/WHEEL'\n",
            "adding 'chaepy-0.1.0.dist-info/top_level.txt'\n",
            "adding 'chaepy-0.1.0.dist-info/RECORD'\n",
            "removing build/bdist.linux-x86_64/wheel\n"
          ]
        }
      ]
    },
    {
      "cell_type": "code",
      "source": [
        "!twine upload -u Chae -p korea6478@ dist/chaepy-0.1.0-py3-none-any.whl"
      ],
      "metadata": {
        "colab": {
          "base_uri": "https://localhost:8080/"
        },
        "id": "Kyh8Il0YADXq",
        "outputId": "f22100df-e382-45ad-acfb-324ecacc97c9"
      },
      "execution_count": null,
      "outputs": [
        {
          "output_type": "stream",
          "name": "stdout",
          "text": [
            "Uploading distributions to https://upload.pypi.org/legacy/\n",
            "Uploading chaepy-0.1.0-py3-none-any.whl\n",
            "\u001b[2K\u001b[35m100%\u001b[0m \u001b[90m━━━━━━━━━━━━━━━━━━━━━━━━━━━━━━━━━━━━━━━━\u001b[0m \u001b[32m4.4/4.4 kB\u001b[0m • \u001b[33m00:00\u001b[0m • \u001b[31m?\u001b[0m\n",
            "\u001b[?25h\n",
            "\u001b[32mView at:\u001b[0m\n",
            "https://pypi.org/project/chaepy/0.1.0/\n"
          ]
        }
      ]
    }
  ]
}